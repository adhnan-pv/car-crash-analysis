{
 "cells": [
  {
   "cell_type": "code",
   "execution_count": 2,
   "id": "511a9f67",
   "metadata": {},
   "outputs": [
    {
     "name": "stderr",
     "output_type": "stream",
     "text": [
      "UsageError: Line magic function `%` not found.\n"
     ]
    }
   ],
   "source": [
    "import pandas as pd\n",
    "import numpy as np\n",
    "import matplotlib.pyplot as plt \n",
    "import seaborn as sns\n",
    "% matplotlib.inline"
   ]
  },
  {
   "cell_type": "code",
   "execution_count": 4,
   "id": "416864f3",
   "metadata": {},
   "outputs": [],
   "source": [
    "car=pd.read_excel(r\"data_set\\car_crash.xlsx\")"
   ]
  },
  {
   "cell_type": "code",
   "execution_count": 5,
   "id": "ca872672",
   "metadata": {},
   "outputs": [
    {
     "data": {
      "text/html": [
       "<div>\n",
       "<style scoped>\n",
       "    .dataframe tbody tr th:only-of-type {\n",
       "        vertical-align: middle;\n",
       "    }\n",
       "\n",
       "    .dataframe tbody tr th {\n",
       "        vertical-align: top;\n",
       "    }\n",
       "\n",
       "    .dataframe thead th {\n",
       "        text-align: right;\n",
       "    }\n",
       "</style>\n",
       "<table border=\"1\" class=\"dataframe\">\n",
       "  <thead>\n",
       "    <tr style=\"text-align: right;\">\n",
       "      <th></th>\n",
       "      <th>Year</th>\n",
       "      <th>Month</th>\n",
       "      <th>Day</th>\n",
       "      <th>Weekend?</th>\n",
       "      <th>Hour</th>\n",
       "      <th>Collision Type</th>\n",
       "      <th>Injury Type</th>\n",
       "      <th>Primary Factor</th>\n",
       "      <th>Reported_Location</th>\n",
       "      <th>Latitude</th>\n",
       "      <th>Longitude</th>\n",
       "    </tr>\n",
       "  </thead>\n",
       "  <tbody>\n",
       "    <tr>\n",
       "      <th>0</th>\n",
       "      <td>2015</td>\n",
       "      <td>1</td>\n",
       "      <td>5</td>\n",
       "      <td>Weekday</td>\n",
       "      <td>0.0</td>\n",
       "      <td>2-Car</td>\n",
       "      <td>No injury/unknown</td>\n",
       "      <td>OTHER (DRIVER) - EXPLAIN IN NARRATIVE</td>\n",
       "      <td>1ST &amp; FESS</td>\n",
       "      <td>39.159207</td>\n",
       "      <td>-86.525874</td>\n",
       "    </tr>\n",
       "    <tr>\n",
       "      <th>1</th>\n",
       "      <td>2015</td>\n",
       "      <td>1</td>\n",
       "      <td>6</td>\n",
       "      <td>Weekday</td>\n",
       "      <td>1500.0</td>\n",
       "      <td>2-Car</td>\n",
       "      <td>No injury/unknown</td>\n",
       "      <td>FOLLOWING TOO CLOSELY</td>\n",
       "      <td>2ND &amp; COLLEGE</td>\n",
       "      <td>39.161440</td>\n",
       "      <td>-86.534848</td>\n",
       "    </tr>\n",
       "    <tr>\n",
       "      <th>2</th>\n",
       "      <td>2015</td>\n",
       "      <td>1</td>\n",
       "      <td>6</td>\n",
       "      <td>Weekend</td>\n",
       "      <td>2300.0</td>\n",
       "      <td>2-Car</td>\n",
       "      <td>Non-incapacitating</td>\n",
       "      <td>DISREGARD SIGNAL/REG SIGN</td>\n",
       "      <td>BASSWOOD &amp; BLOOMFIELD</td>\n",
       "      <td>39.149780</td>\n",
       "      <td>-86.568890</td>\n",
       "    </tr>\n",
       "    <tr>\n",
       "      <th>3</th>\n",
       "      <td>2015</td>\n",
       "      <td>1</td>\n",
       "      <td>7</td>\n",
       "      <td>Weekend</td>\n",
       "      <td>900.0</td>\n",
       "      <td>2-Car</td>\n",
       "      <td>Non-incapacitating</td>\n",
       "      <td>FAILURE TO YIELD RIGHT OF WAY</td>\n",
       "      <td>GATES &amp; JACOBS</td>\n",
       "      <td>39.165655</td>\n",
       "      <td>-86.575956</td>\n",
       "    </tr>\n",
       "    <tr>\n",
       "      <th>4</th>\n",
       "      <td>2015</td>\n",
       "      <td>1</td>\n",
       "      <td>7</td>\n",
       "      <td>Weekend</td>\n",
       "      <td>1100.0</td>\n",
       "      <td>2-Car</td>\n",
       "      <td>No injury/unknown</td>\n",
       "      <td>FAILURE TO YIELD RIGHT OF WAY</td>\n",
       "      <td>W 3RD</td>\n",
       "      <td>39.164848</td>\n",
       "      <td>-86.579625</td>\n",
       "    </tr>\n",
       "    <tr>\n",
       "      <th>...</th>\n",
       "      <td>...</td>\n",
       "      <td>...</td>\n",
       "      <td>...</td>\n",
       "      <td>...</td>\n",
       "      <td>...</td>\n",
       "      <td>...</td>\n",
       "      <td>...</td>\n",
       "      <td>...</td>\n",
       "      <td>...</td>\n",
       "      <td>...</td>\n",
       "      <td>...</td>\n",
       "    </tr>\n",
       "    <tr>\n",
       "      <th>53938</th>\n",
       "      <td>2003</td>\n",
       "      <td>10</td>\n",
       "      <td>6</td>\n",
       "      <td>Weekday</td>\n",
       "      <td>1700.0</td>\n",
       "      <td>2-Car</td>\n",
       "      <td>No injury/unknown</td>\n",
       "      <td>IMPROPER LANE USAGE</td>\n",
       "      <td>DUNN &amp; WHITE LOT WEST</td>\n",
       "      <td>0.000000</td>\n",
       "      <td>0.000000</td>\n",
       "    </tr>\n",
       "    <tr>\n",
       "      <th>53939</th>\n",
       "      <td>2003</td>\n",
       "      <td>11</td>\n",
       "      <td>3</td>\n",
       "      <td>Weekday</td>\n",
       "      <td>800.0</td>\n",
       "      <td>1-Car</td>\n",
       "      <td>No injury/unknown</td>\n",
       "      <td>UNSAFE SPEED</td>\n",
       "      <td>RED OAK &amp; SR446</td>\n",
       "      <td>0.000000</td>\n",
       "      <td>0.000000</td>\n",
       "    </tr>\n",
       "    <tr>\n",
       "      <th>53940</th>\n",
       "      <td>2003</td>\n",
       "      <td>12</td>\n",
       "      <td>5</td>\n",
       "      <td>Weekday</td>\n",
       "      <td>1200.0</td>\n",
       "      <td>2-Car</td>\n",
       "      <td>No injury/unknown</td>\n",
       "      <td>BRAKE FAILURE OR DEFECTIVE</td>\n",
       "      <td>2ND ST &amp; WALNUT</td>\n",
       "      <td>0.000000</td>\n",
       "      <td>0.000000</td>\n",
       "    </tr>\n",
       "    <tr>\n",
       "      <th>53941</th>\n",
       "      <td>2003</td>\n",
       "      <td>12</td>\n",
       "      <td>1</td>\n",
       "      <td>Weekend</td>\n",
       "      <td>700.0</td>\n",
       "      <td>2-Car</td>\n",
       "      <td>No injury/unknown</td>\n",
       "      <td>UNSAFE BACKING</td>\n",
       "      <td>NINETH &amp; NORTH</td>\n",
       "      <td>0.000000</td>\n",
       "      <td>0.000000</td>\n",
       "    </tr>\n",
       "    <tr>\n",
       "      <th>53942</th>\n",
       "      <td>2003</td>\n",
       "      <td>12</td>\n",
       "      <td>7</td>\n",
       "      <td>Weekend</td>\n",
       "      <td>1700.0</td>\n",
       "      <td>2-Car</td>\n",
       "      <td>Non-incapacitating</td>\n",
       "      <td>OTHER (DRIVER) - EXPLAIN IN NARRATIVE</td>\n",
       "      <td>MONROW &amp; THIRD ST</td>\n",
       "      <td>0.000000</td>\n",
       "      <td>0.000000</td>\n",
       "    </tr>\n",
       "  </tbody>\n",
       "</table>\n",
       "<p>53943 rows × 11 columns</p>\n",
       "</div>"
      ],
      "text/plain": [
       "       Year  Month  Day Weekend?    Hour Collision Type         Injury Type  \\\n",
       "0      2015      1    5  Weekday     0.0          2-Car   No injury/unknown   \n",
       "1      2015      1    6  Weekday  1500.0          2-Car   No injury/unknown   \n",
       "2      2015      1    6  Weekend  2300.0          2-Car  Non-incapacitating   \n",
       "3      2015      1    7  Weekend   900.0          2-Car  Non-incapacitating   \n",
       "4      2015      1    7  Weekend  1100.0          2-Car   No injury/unknown   \n",
       "...     ...    ...  ...      ...     ...            ...                 ...   \n",
       "53938  2003     10    6  Weekday  1700.0          2-Car   No injury/unknown   \n",
       "53939  2003     11    3  Weekday   800.0          1-Car   No injury/unknown   \n",
       "53940  2003     12    5  Weekday  1200.0          2-Car   No injury/unknown   \n",
       "53941  2003     12    1  Weekend   700.0          2-Car   No injury/unknown   \n",
       "53942  2003     12    7  Weekend  1700.0          2-Car  Non-incapacitating   \n",
       "\n",
       "                              Primary Factor      Reported_Location  \\\n",
       "0      OTHER (DRIVER) - EXPLAIN IN NARRATIVE             1ST & FESS   \n",
       "1                      FOLLOWING TOO CLOSELY          2ND & COLLEGE   \n",
       "2                  DISREGARD SIGNAL/REG SIGN  BASSWOOD & BLOOMFIELD   \n",
       "3              FAILURE TO YIELD RIGHT OF WAY         GATES & JACOBS   \n",
       "4              FAILURE TO YIELD RIGHT OF WAY                  W 3RD   \n",
       "...                                      ...                    ...   \n",
       "53938                    IMPROPER LANE USAGE  DUNN & WHITE LOT WEST   \n",
       "53939                           UNSAFE SPEED        RED OAK & SR446   \n",
       "53940             BRAKE FAILURE OR DEFECTIVE        2ND ST & WALNUT   \n",
       "53941                         UNSAFE BACKING         NINETH & NORTH   \n",
       "53942  OTHER (DRIVER) - EXPLAIN IN NARRATIVE      MONROW & THIRD ST   \n",
       "\n",
       "        Latitude  Longitude  \n",
       "0      39.159207 -86.525874  \n",
       "1      39.161440 -86.534848  \n",
       "2      39.149780 -86.568890  \n",
       "3      39.165655 -86.575956  \n",
       "4      39.164848 -86.579625  \n",
       "...          ...        ...  \n",
       "53938   0.000000   0.000000  \n",
       "53939   0.000000   0.000000  \n",
       "53940   0.000000   0.000000  \n",
       "53941   0.000000   0.000000  \n",
       "53942   0.000000   0.000000  \n",
       "\n",
       "[53943 rows x 11 columns]"
      ]
     },
     "execution_count": 5,
     "metadata": {},
     "output_type": "execute_result"
    }
   ],
   "source": [
    "car"
   ]
  },
  {
   "cell_type": "code",
   "execution_count": 6,
   "id": "2d947f83",
   "metadata": {},
   "outputs": [
    {
     "data": {
      "text/plain": [
       "(53943, 11)"
      ]
     },
     "execution_count": 6,
     "metadata": {},
     "output_type": "execute_result"
    }
   ],
   "source": [
    "car.shape"
   ]
  },
  {
   "cell_type": "code",
   "execution_count": 7,
   "id": "baba452b",
   "metadata": {},
   "outputs": [
    {
     "name": "stdout",
     "output_type": "stream",
     "text": [
      "<class 'pandas.core.frame.DataFrame'>\n",
      "RangeIndex: 53943 entries, 0 to 53942\n",
      "Data columns (total 11 columns):\n",
      " #   Column             Non-Null Count  Dtype  \n",
      "---  ------             --------------  -----  \n",
      " 0   Year               53943 non-null  int64  \n",
      " 1   Month              53943 non-null  int64  \n",
      " 2   Day                53943 non-null  int64  \n",
      " 3   Weekend?           53875 non-null  object \n",
      " 4   Hour               53718 non-null  float64\n",
      " 5   Collision Type     53937 non-null  object \n",
      " 6   Injury Type        53943 non-null  object \n",
      " 7   Primary Factor     52822 non-null  object \n",
      " 8   Reported_Location  53908 non-null  object \n",
      " 9   Latitude           53913 non-null  float64\n",
      " 10  Longitude          53913 non-null  float64\n",
      "dtypes: float64(3), int64(3), object(5)\n",
      "memory usage: 4.5+ MB\n"
     ]
    }
   ],
   "source": [
    "car.info()"
   ]
  },
  {
   "cell_type": "code",
   "execution_count": 8,
   "id": "28a312c2",
   "metadata": {},
   "outputs": [
    {
     "data": {
      "text/plain": [
       "Year                   int64\n",
       "Month                  int64\n",
       "Day                    int64\n",
       "Weekend?              object\n",
       "Hour                 float64\n",
       "Collision Type        object\n",
       "Injury Type           object\n",
       "Primary Factor        object\n",
       "Reported_Location     object\n",
       "Latitude             float64\n",
       "Longitude            float64\n",
       "dtype: object"
      ]
     },
     "execution_count": 8,
     "metadata": {},
     "output_type": "execute_result"
    }
   ],
   "source": [
    "car.dtypes"
   ]
  },
  {
   "cell_type": "code",
   "execution_count": 10,
   "id": "965bba7d",
   "metadata": {},
   "outputs": [
    {
     "data": {
      "text/plain": [
       "Index(['Year', 'Month', 'Day', 'Weekend?', 'Hour', 'Collision Type',\n",
       "       'Injury Type', 'Primary Factor', 'Reported_Location', 'Latitude',\n",
       "       'Longitude'],\n",
       "      dtype='object')"
      ]
     },
     "execution_count": 10,
     "metadata": {},
     "output_type": "execute_result"
    }
   ],
   "source": [
    "car.columns"
   ]
  },
  {
   "cell_type": "code",
   "execution_count": 13,
   "id": "1deccec1",
   "metadata": {},
   "outputs": [
    {
     "data": {
      "text/plain": [
       "64"
      ]
     },
     "execution_count": 13,
     "metadata": {},
     "output_type": "execute_result"
    }
   ],
   "source": [
    "car.duplicated().sum()"
   ]
  },
  {
   "cell_type": "code",
   "execution_count": 18,
   "id": "366fbde8",
   "metadata": {},
   "outputs": [],
   "source": [
    "car.drop_duplicates(inplace=True)"
   ]
  },
  {
   "cell_type": "code",
   "execution_count": 19,
   "id": "052ec7c3",
   "metadata": {},
   "outputs": [
    {
     "data": {
      "text/plain": [
       "(53879, 11)"
      ]
     },
     "execution_count": 19,
     "metadata": {},
     "output_type": "execute_result"
    }
   ],
   "source": [
    "car.shape"
   ]
  },
  {
   "cell_type": "code",
   "execution_count": 20,
   "id": "2f9938a1",
   "metadata": {},
   "outputs": [
    {
     "data": {
      "text/plain": [
       "Year                    0\n",
       "Month                   0\n",
       "Day                     0\n",
       "Weekend?               68\n",
       "Hour                  225\n",
       "Collision Type          6\n",
       "Injury Type             0\n",
       "Primary Factor       1119\n",
       "Reported_Location      35\n",
       "Latitude               30\n",
       "Longitude              30\n",
       "dtype: int64"
      ]
     },
     "execution_count": 20,
     "metadata": {},
     "output_type": "execute_result"
    }
   ],
   "source": [
    "car.isna().sum()"
   ]
  },
  {
   "cell_type": "code",
   "execution_count": 21,
   "id": "fc0e6645",
   "metadata": {},
   "outputs": [],
   "source": [
    "car1=car.copy()"
   ]
  },
  {
   "cell_type": "code",
   "execution_count": 26,
   "id": "f81a7d3c",
   "metadata": {},
   "outputs": [],
   "source": [
    "car[\"Weekend?\"].fillna(car[\"Weekend?\"].mode()[0],inplace=True)"
   ]
  },
  {
   "cell_type": "code",
   "execution_count": 28,
   "id": "7544901a",
   "metadata": {},
   "outputs": [],
   "source": [
    "car['Hour'].fillna(car['Hour'].mean(),inplace=True)"
   ]
  },
  {
   "cell_type": "code",
   "execution_count": 30,
   "id": "7d42c8c7",
   "metadata": {},
   "outputs": [
    {
     "data": {
      "text/plain": [
       "Year                    0\n",
       "Month                   0\n",
       "Day                     0\n",
       "Weekend?                0\n",
       "Hour                    0\n",
       "Collision Type          6\n",
       "Injury Type             0\n",
       "Primary Factor       1119\n",
       "Reported_Location      35\n",
       "Latitude               30\n",
       "Longitude              30\n",
       "dtype: int64"
      ]
     },
     "execution_count": 30,
     "metadata": {},
     "output_type": "execute_result"
    }
   ],
   "source": [
    "car.isna().sum()"
   ]
  },
  {
   "cell_type": "code",
   "execution_count": 31,
   "id": "2c559ab8",
   "metadata": {},
   "outputs": [],
   "source": [
    "car[\"Primary Factor\"].fillna(car[\"Primary Factor\"].mode()[0],inplace=True)"
   ]
  },
  {
   "cell_type": "code",
   "execution_count": 35,
   "id": "349623b7",
   "metadata": {},
   "outputs": [],
   "source": [
    "car.dropna(inplace=True)"
   ]
  },
  {
   "cell_type": "code",
   "execution_count": 36,
   "id": "53e4dc02",
   "metadata": {},
   "outputs": [
    {
     "data": {
      "text/plain": [
       "Year                 0\n",
       "Month                0\n",
       "Day                  0\n",
       "Weekend?             0\n",
       "Hour                 0\n",
       "Collision Type       0\n",
       "Injury Type          0\n",
       "Primary Factor       0\n",
       "Reported_Location    0\n",
       "Latitude             0\n",
       "Longitude            0\n",
       "dtype: int64"
      ]
     },
     "execution_count": 36,
     "metadata": {},
     "output_type": "execute_result"
    }
   ],
   "source": [
    "car.isna().sum()"
   ]
  },
  {
   "cell_type": "code",
   "execution_count": 38,
   "id": "9b022590",
   "metadata": {},
   "outputs": [
    {
     "data": {
      "text/plain": [
       "(53808, 11)"
      ]
     },
     "execution_count": 38,
     "metadata": {},
     "output_type": "execute_result"
    }
   ],
   "source": [
    "car.shape"
   ]
  },
  {
   "cell_type": "markdown",
   "id": "afdfdc9f",
   "metadata": {},
   "source": [
    "- after filling and dropingt Na values the current shape of the dataset is 538008"
   ]
  },
  {
   "cell_type": "code",
   "execution_count": 40,
   "id": "caa4330c",
   "metadata": {},
   "outputs": [
    {
     "data": {
      "text/html": [
       "<div>\n",
       "<style scoped>\n",
       "    .dataframe tbody tr th:only-of-type {\n",
       "        vertical-align: middle;\n",
       "    }\n",
       "\n",
       "    .dataframe tbody tr th {\n",
       "        vertical-align: top;\n",
       "    }\n",
       "\n",
       "    .dataframe thead th {\n",
       "        text-align: right;\n",
       "    }\n",
       "</style>\n",
       "<table border=\"1\" class=\"dataframe\">\n",
       "  <thead>\n",
       "    <tr style=\"text-align: right;\">\n",
       "      <th></th>\n",
       "      <th>Year</th>\n",
       "      <th>Month</th>\n",
       "      <th>Day</th>\n",
       "      <th>Weekend?</th>\n",
       "      <th>Hour</th>\n",
       "      <th>Collision Type</th>\n",
       "      <th>Injury Type</th>\n",
       "      <th>Primary Factor</th>\n",
       "      <th>Reported_Location</th>\n",
       "      <th>Latitude</th>\n",
       "      <th>Longitude</th>\n",
       "    </tr>\n",
       "  </thead>\n",
       "  <tbody>\n",
       "    <tr>\n",
       "      <th>0</th>\n",
       "      <td>2015</td>\n",
       "      <td>1</td>\n",
       "      <td>5</td>\n",
       "      <td>Weekday</td>\n",
       "      <td>0.0</td>\n",
       "      <td>2-Car</td>\n",
       "      <td>No injury/unknown</td>\n",
       "      <td>OTHER (DRIVER) - EXPLAIN IN NARRATIVE</td>\n",
       "      <td>1ST &amp; FESS</td>\n",
       "      <td>39.159207</td>\n",
       "      <td>-86.525874</td>\n",
       "    </tr>\n",
       "    <tr>\n",
       "      <th>1</th>\n",
       "      <td>2015</td>\n",
       "      <td>1</td>\n",
       "      <td>6</td>\n",
       "      <td>Weekday</td>\n",
       "      <td>1500.0</td>\n",
       "      <td>2-Car</td>\n",
       "      <td>No injury/unknown</td>\n",
       "      <td>FOLLOWING TOO CLOSELY</td>\n",
       "      <td>2ND &amp; COLLEGE</td>\n",
       "      <td>39.161440</td>\n",
       "      <td>-86.534848</td>\n",
       "    </tr>\n",
       "    <tr>\n",
       "      <th>2</th>\n",
       "      <td>2015</td>\n",
       "      <td>1</td>\n",
       "      <td>6</td>\n",
       "      <td>Weekend</td>\n",
       "      <td>2300.0</td>\n",
       "      <td>2-Car</td>\n",
       "      <td>Non-incapacitating</td>\n",
       "      <td>DISREGARD SIGNAL/REG SIGN</td>\n",
       "      <td>BASSWOOD &amp; BLOOMFIELD</td>\n",
       "      <td>39.149780</td>\n",
       "      <td>-86.568890</td>\n",
       "    </tr>\n",
       "    <tr>\n",
       "      <th>3</th>\n",
       "      <td>2015</td>\n",
       "      <td>1</td>\n",
       "      <td>7</td>\n",
       "      <td>Weekend</td>\n",
       "      <td>900.0</td>\n",
       "      <td>2-Car</td>\n",
       "      <td>Non-incapacitating</td>\n",
       "      <td>FAILURE TO YIELD RIGHT OF WAY</td>\n",
       "      <td>GATES &amp; JACOBS</td>\n",
       "      <td>39.165655</td>\n",
       "      <td>-86.575956</td>\n",
       "    </tr>\n",
       "    <tr>\n",
       "      <th>4</th>\n",
       "      <td>2015</td>\n",
       "      <td>1</td>\n",
       "      <td>7</td>\n",
       "      <td>Weekend</td>\n",
       "      <td>1100.0</td>\n",
       "      <td>2-Car</td>\n",
       "      <td>No injury/unknown</td>\n",
       "      <td>FAILURE TO YIELD RIGHT OF WAY</td>\n",
       "      <td>W 3RD</td>\n",
       "      <td>39.164848</td>\n",
       "      <td>-86.579625</td>\n",
       "    </tr>\n",
       "  </tbody>\n",
       "</table>\n",
       "</div>"
      ],
      "text/plain": [
       "   Year  Month  Day Weekend?    Hour Collision Type         Injury Type  \\\n",
       "0  2015      1    5  Weekday     0.0          2-Car   No injury/unknown   \n",
       "1  2015      1    6  Weekday  1500.0          2-Car   No injury/unknown   \n",
       "2  2015      1    6  Weekend  2300.0          2-Car  Non-incapacitating   \n",
       "3  2015      1    7  Weekend   900.0          2-Car  Non-incapacitating   \n",
       "4  2015      1    7  Weekend  1100.0          2-Car   No injury/unknown   \n",
       "\n",
       "                          Primary Factor      Reported_Location   Latitude  \\\n",
       "0  OTHER (DRIVER) - EXPLAIN IN NARRATIVE             1ST & FESS  39.159207   \n",
       "1                  FOLLOWING TOO CLOSELY          2ND & COLLEGE  39.161440   \n",
       "2              DISREGARD SIGNAL/REG SIGN  BASSWOOD & BLOOMFIELD  39.149780   \n",
       "3          FAILURE TO YIELD RIGHT OF WAY         GATES & JACOBS  39.165655   \n",
       "4          FAILURE TO YIELD RIGHT OF WAY                  W 3RD  39.164848   \n",
       "\n",
       "   Longitude  \n",
       "0 -86.525874  \n",
       "1 -86.534848  \n",
       "2 -86.568890  \n",
       "3 -86.575956  \n",
       "4 -86.579625  "
      ]
     },
     "execution_count": 40,
     "metadata": {},
     "output_type": "execute_result"
    }
   ],
   "source": [
    "car.head(5)"
   ]
  },
  {
   "cell_type": "code",
   "execution_count": 58,
   "id": "47552dee",
   "metadata": {},
   "outputs": [
    {
     "data": {
      "text/html": [
       "<div>\n",
       "<style scoped>\n",
       "    .dataframe tbody tr th:only-of-type {\n",
       "        vertical-align: middle;\n",
       "    }\n",
       "\n",
       "    .dataframe tbody tr th {\n",
       "        vertical-align: top;\n",
       "    }\n",
       "\n",
       "    .dataframe thead th {\n",
       "        text-align: right;\n",
       "    }\n",
       "</style>\n",
       "<table border=\"1\" class=\"dataframe\">\n",
       "  <thead>\n",
       "    <tr style=\"text-align: right;\">\n",
       "      <th></th>\n",
       "      <th>Year</th>\n",
       "      <th>Month</th>\n",
       "      <th>Day</th>\n",
       "      <th>Weekend?</th>\n",
       "      <th>Hour</th>\n",
       "      <th>Collision Type</th>\n",
       "      <th>Injury Type</th>\n",
       "      <th>Primary Factor</th>\n",
       "      <th>Reported_Location</th>\n",
       "      <th>Latitude</th>\n",
       "      <th>Longitude</th>\n",
       "    </tr>\n",
       "  </thead>\n",
       "  <tbody>\n",
       "    <tr>\n",
       "      <th>count</th>\n",
       "      <td>53808.000000</td>\n",
       "      <td>53808.000000</td>\n",
       "      <td>53808.000000</td>\n",
       "      <td>53808</td>\n",
       "      <td>53808.000000</td>\n",
       "      <td>53808</td>\n",
       "      <td>53808</td>\n",
       "      <td>53808</td>\n",
       "      <td>53808</td>\n",
       "      <td>53808.000000</td>\n",
       "      <td>53808.000000</td>\n",
       "    </tr>\n",
       "    <tr>\n",
       "      <th>unique</th>\n",
       "      <td>NaN</td>\n",
       "      <td>NaN</td>\n",
       "      <td>NaN</td>\n",
       "      <td>2</td>\n",
       "      <td>NaN</td>\n",
       "      <td>7</td>\n",
       "      <td>4</td>\n",
       "      <td>55</td>\n",
       "      <td>19355</td>\n",
       "      <td>NaN</td>\n",
       "      <td>NaN</td>\n",
       "    </tr>\n",
       "    <tr>\n",
       "      <th>top</th>\n",
       "      <td>NaN</td>\n",
       "      <td>NaN</td>\n",
       "      <td>NaN</td>\n",
       "      <td>Weekday</td>\n",
       "      <td>NaN</td>\n",
       "      <td>2-Car</td>\n",
       "      <td>No injury/unknown</td>\n",
       "      <td>FAILURE TO YIELD RIGHT OF WAY</td>\n",
       "      <td>E 3RD ST</td>\n",
       "      <td>NaN</td>\n",
       "      <td>NaN</td>\n",
       "    </tr>\n",
       "    <tr>\n",
       "      <th>freq</th>\n",
       "      <td>NaN</td>\n",
       "      <td>NaN</td>\n",
       "      <td>NaN</td>\n",
       "      <td>40569</td>\n",
       "      <td>NaN</td>\n",
       "      <td>37508</td>\n",
       "      <td>41485</td>\n",
       "      <td>12286</td>\n",
       "      <td>374</td>\n",
       "      <td>NaN</td>\n",
       "      <td>NaN</td>\n",
       "    </tr>\n",
       "    <tr>\n",
       "      <th>mean</th>\n",
       "      <td>2008.966566</td>\n",
       "      <td>6.660887</td>\n",
       "      <td>4.197201</td>\n",
       "      <td>NaN</td>\n",
       "      <td>1347.459763</td>\n",
       "      <td>NaN</td>\n",
       "      <td>NaN</td>\n",
       "      <td>NaN</td>\n",
       "      <td>NaN</td>\n",
       "      <td>35.602035</td>\n",
       "      <td>-78.663280</td>\n",
       "    </tr>\n",
       "    <tr>\n",
       "      <th>std</th>\n",
       "      <td>3.787507</td>\n",
       "      <td>3.514729</td>\n",
       "      <td>1.909393</td>\n",
       "      <td>NaN</td>\n",
       "      <td>530.439248</td>\n",
       "      <td>NaN</td>\n",
       "      <td>NaN</td>\n",
       "      <td>NaN</td>\n",
       "      <td>NaN</td>\n",
       "      <td>11.261566</td>\n",
       "      <td>24.895083</td>\n",
       "    </tr>\n",
       "    <tr>\n",
       "      <th>min</th>\n",
       "      <td>2003.000000</td>\n",
       "      <td>1.000000</td>\n",
       "      <td>1.000000</td>\n",
       "      <td>NaN</td>\n",
       "      <td>0.000000</td>\n",
       "      <td>NaN</td>\n",
       "      <td>NaN</td>\n",
       "      <td>NaN</td>\n",
       "      <td>NaN</td>\n",
       "      <td>0.000000</td>\n",
       "      <td>-88.959213</td>\n",
       "    </tr>\n",
       "    <tr>\n",
       "      <th>25%</th>\n",
       "      <td>2006.000000</td>\n",
       "      <td>4.000000</td>\n",
       "      <td>3.000000</td>\n",
       "      <td>NaN</td>\n",
       "      <td>1000.000000</td>\n",
       "      <td>NaN</td>\n",
       "      <td>NaN</td>\n",
       "      <td>NaN</td>\n",
       "      <td>NaN</td>\n",
       "      <td>39.142048</td>\n",
       "      <td>-86.551533</td>\n",
       "    </tr>\n",
       "    <tr>\n",
       "      <th>50%</th>\n",
       "      <td>2009.000000</td>\n",
       "      <td>7.000000</td>\n",
       "      <td>4.000000</td>\n",
       "      <td>NaN</td>\n",
       "      <td>1400.000000</td>\n",
       "      <td>NaN</td>\n",
       "      <td>NaN</td>\n",
       "      <td>NaN</td>\n",
       "      <td>NaN</td>\n",
       "      <td>39.164436</td>\n",
       "      <td>-86.530992</td>\n",
       "    </tr>\n",
       "    <tr>\n",
       "      <th>75%</th>\n",
       "      <td>2012.000000</td>\n",
       "      <td>10.000000</td>\n",
       "      <td>6.000000</td>\n",
       "      <td>NaN</td>\n",
       "      <td>1700.000000</td>\n",
       "      <td>NaN</td>\n",
       "      <td>NaN</td>\n",
       "      <td>NaN</td>\n",
       "      <td>NaN</td>\n",
       "      <td>39.173344</td>\n",
       "      <td>-86.508288</td>\n",
       "    </tr>\n",
       "    <tr>\n",
       "      <th>max</th>\n",
       "      <td>2015.000000</td>\n",
       "      <td>12.000000</td>\n",
       "      <td>7.000000</td>\n",
       "      <td>NaN</td>\n",
       "      <td>2300.000000</td>\n",
       "      <td>NaN</td>\n",
       "      <td>NaN</td>\n",
       "      <td>NaN</td>\n",
       "      <td>NaN</td>\n",
       "      <td>41.228665</td>\n",
       "      <td>86.596363</td>\n",
       "    </tr>\n",
       "  </tbody>\n",
       "</table>\n",
       "</div>"
      ],
      "text/plain": [
       "                Year         Month           Day Weekend?          Hour  \\\n",
       "count   53808.000000  53808.000000  53808.000000    53808  53808.000000   \n",
       "unique           NaN           NaN           NaN        2           NaN   \n",
       "top              NaN           NaN           NaN  Weekday           NaN   \n",
       "freq             NaN           NaN           NaN    40569           NaN   \n",
       "mean     2008.966566      6.660887      4.197201      NaN   1347.459763   \n",
       "std         3.787507      3.514729      1.909393      NaN    530.439248   \n",
       "min      2003.000000      1.000000      1.000000      NaN      0.000000   \n",
       "25%      2006.000000      4.000000      3.000000      NaN   1000.000000   \n",
       "50%      2009.000000      7.000000      4.000000      NaN   1400.000000   \n",
       "75%      2012.000000     10.000000      6.000000      NaN   1700.000000   \n",
       "max      2015.000000     12.000000      7.000000      NaN   2300.000000   \n",
       "\n",
       "       Collision Type        Injury Type                 Primary Factor  \\\n",
       "count           53808              53808                          53808   \n",
       "unique              7                  4                             55   \n",
       "top             2-Car  No injury/unknown  FAILURE TO YIELD RIGHT OF WAY   \n",
       "freq            37508              41485                          12286   \n",
       "mean              NaN                NaN                            NaN   \n",
       "std               NaN                NaN                            NaN   \n",
       "min               NaN                NaN                            NaN   \n",
       "25%               NaN                NaN                            NaN   \n",
       "50%               NaN                NaN                            NaN   \n",
       "75%               NaN                NaN                            NaN   \n",
       "max               NaN                NaN                            NaN   \n",
       "\n",
       "       Reported_Location      Latitude     Longitude  \n",
       "count              53808  53808.000000  53808.000000  \n",
       "unique             19355           NaN           NaN  \n",
       "top             E 3RD ST           NaN           NaN  \n",
       "freq                 374           NaN           NaN  \n",
       "mean                 NaN     35.602035    -78.663280  \n",
       "std                  NaN     11.261566     24.895083  \n",
       "min                  NaN      0.000000    -88.959213  \n",
       "25%                  NaN     39.142048    -86.551533  \n",
       "50%                  NaN     39.164436    -86.530992  \n",
       "75%                  NaN     39.173344    -86.508288  \n",
       "max                  NaN     41.228665     86.596363  "
      ]
     },
     "execution_count": 58,
     "metadata": {},
     "output_type": "execute_result"
    }
   ],
   "source": [
    "car.describe(include='all')"
   ]
  },
  {
   "cell_type": "markdown",
   "id": "82de76f3",
   "metadata": {},
   "source": [
    "from the above table its almost clear that the chances for outliers are less\n",
    "more number of accidents must have occured in the year 2008\n",
    "more number of accidents occured month will be june\n",
    "weekdays are having most number of crashes\n",
    "collision type is having more numbers with a crash of two cars\n",
    "primary factor is the failure to yield the right way"
   ]
  },
  {
   "cell_type": "code",
   "execution_count": 49,
   "id": "3f89b9d0",
   "metadata": {},
   "outputs": [
    {
     "data": {
      "text/html": [
       "<div>\n",
       "<style scoped>\n",
       "    .dataframe tbody tr th:only-of-type {\n",
       "        vertical-align: middle;\n",
       "    }\n",
       "\n",
       "    .dataframe tbody tr th {\n",
       "        vertical-align: top;\n",
       "    }\n",
       "\n",
       "    .dataframe thead th {\n",
       "        text-align: right;\n",
       "    }\n",
       "</style>\n",
       "<table border=\"1\" class=\"dataframe\">\n",
       "  <thead>\n",
       "    <tr style=\"text-align: right;\">\n",
       "      <th></th>\n",
       "      <th>Latitude</th>\n",
       "      <th>Longitude</th>\n",
       "    </tr>\n",
       "  </thead>\n",
       "  <tbody>\n",
       "    <tr>\n",
       "      <th>Latitude</th>\n",
       "      <td>1.000000</td>\n",
       "      <td>-0.999404</td>\n",
       "    </tr>\n",
       "    <tr>\n",
       "      <th>Longitude</th>\n",
       "      <td>-0.999404</td>\n",
       "      <td>1.000000</td>\n",
       "    </tr>\n",
       "  </tbody>\n",
       "</table>\n",
       "</div>"
      ],
      "text/plain": [
       "           Latitude  Longitude\n",
       "Latitude   1.000000  -0.999404\n",
       "Longitude -0.999404   1.000000"
      ]
     },
     "execution_count": 49,
     "metadata": {},
     "output_type": "execute_result"
    }
   ],
   "source": [
    "car[['Latitude','Longitude']].corr()"
   ]
  },
  {
   "cell_type": "code",
   "execution_count": 50,
   "id": "61ba1e73",
   "metadata": {},
   "outputs": [
    {
     "data": {
      "text/plain": [
       "<Axes: >"
      ]
     },
     "execution_count": 50,
     "metadata": {},
     "output_type": "execute_result"
    },
    {
     "data": {
      "image/png": "[encoded data removed]",
      "text/plain": [
       "<Figure size 640x480 with 2 Axes>"
      ]
     },
     "metadata": {},
     "output_type": "display_data"
    }
   ],
   "source": [
    "sns.heatmap(car[['Latitude','Longitude']].corr())"
   ]
  },
  {
   "cell_type": "markdown",
   "id": "4468f196",
   "metadata": {},
   "source": [
    "- latitude and longitude have high negative correlation"
   ]
  },
  {
   "cell_type": "code",
   "execution_count": 51,
   "id": "2fce32bd",
   "metadata": {},
   "outputs": [
    {
     "data": {
      "text/plain": [
       "array(['Weekday', 'Weekend'], dtype=object)"
      ]
     },
     "execution_count": 51,
     "metadata": {},
     "output_type": "execute_result"
    }
   ],
   "source": [
    "car['Weekend?'].unique()"
   ]
  },
  {
   "cell_type": "code",
   "execution_count": 52,
   "id": "2b315b87",
   "metadata": {},
   "outputs": [
    {
     "data": {
      "text/plain": [
       "Weekend?\n",
       "Weekday    40569\n",
       "Weekend    13239\n",
       "Name: count, dtype: int64"
      ]
     },
     "execution_count": 52,
     "metadata": {},
     "output_type": "execute_result"
    }
   ],
   "source": [
    "car['Weekend?'].value_counts()"
   ]
  },
  {
   "cell_type": "code",
   "execution_count": 57,
   "id": "d3d2d1db",
   "metadata": {},
   "outputs": [
    {
     "data": {
      "text/plain": [
       "<Axes: xlabel='Weekend?', ylabel='count'>"
      ]
     },
     "execution_count": 57,
     "metadata": {},
     "output_type": "execute_result"
    },
    {
     "data": {
      "image/png": "[encoded data removed]",
      "text/plain": [
       "<Figure size 640x480 with 1 Axes>"
      ]
     },
     "metadata": {},
     "output_type": "display_data"
    }
   ],
   "source": [
    "sns.countplot(data=car,x=\"Weekend?\")"
   ]
  },
  {
   "cell_type": "markdown",
   "id": "352b82d6",
   "metadata": {},
   "source": [
    "- weekday have more car carsh than weekend"
   ]
  },
  {
   "cell_type": "code",
   "execution_count": 62,
   "id": "3aef7b7a",
   "metadata": {},
   "outputs": [
    {
     "data": {
      "text/plain": [
       "array([ 1,  2,  3,  4,  5,  7,  8,  6,  9, 10, 11, 12], dtype=int64)"
      ]
     },
     "execution_count": 62,
     "metadata": {},
     "output_type": "execute_result"
    }
   ],
   "source": [
    "car['Month'].unique()"
   ]
  },
  {
   "cell_type": "code",
   "execution_count": 63,
   "id": "f2f0ca39",
   "metadata": {},
   "outputs": [
    {
     "data": {
      "text/plain": [
       "Month\n",
       "10    5571\n",
       "9     4986\n",
       "11    4873\n",
       "1     4653\n",
       "12    4578\n",
       "4     4567\n",
       "2     4532\n",
       "8     4475\n",
       "5     4203\n",
       "3     3840\n",
       "7     3786\n",
       "6     3744\n",
       "Name: count, dtype: int64"
      ]
     },
     "execution_count": 63,
     "metadata": {},
     "output_type": "execute_result"
    }
   ],
   "source": [
    "car['Month'].value_counts()"
   ]
  },
  {
   "cell_type": "code",
   "execution_count": 64,
   "id": "627d7c0c",
   "metadata": {},
   "outputs": [
    {
     "data": {
      "text/plain": [
       "<Axes: xlabel='Month', ylabel='count'>"
      ]
     },
     "execution_count": 64,
     "metadata": {},
     "output_type": "execute_result"
    },
    {
     "data": {
      "image/png": "[encoded data removed]",
      "text/plain": [
       "<Figure size 640x480 with 1 Axes>"
      ]
     },
     "metadata": {},
     "output_type": "display_data"
    }
   ],
   "source": [
    "sns.countplot(data=car,x='Month')"
   ]
  },
  {
   "cell_type": "markdown",
   "id": "ca2e02a0",
   "metadata": {},
   "source": [
    "- october month have the most car crash in the year\n",
    "- second most is the september and third is november \n",
    "- october saw the most number of accidents followed by september then november\n",
    "-ther reasons may be Transition from summer to fall,Reduced daylight hours,Wet leaves and rain resulting in skidding\n",
    " Holidays: October often sees holidays like Halloween and Thanksgiving, leading to more people traveling by car, which naturally   increases the risk of accidents."
   ]
  },
  {
   "cell_type": "code",
   "execution_count": 65,
   "id": "9b55b598",
   "metadata": {},
   "outputs": [
    {
     "data": {
      "text/plain": [
       "array([2015, 2014, 2013, 2012, 2011, 2010, 2009, 2008, 2007, 2006, 2005,\n",
       "       2004, 2003], dtype=int64)"
      ]
     },
     "execution_count": 65,
     "metadata": {},
     "output_type": "execute_result"
    }
   ],
   "source": [
    "car['Year'].unique()"
   ]
  },
  {
   "cell_type": "code",
   "execution_count": 66,
   "id": "f0111e54",
   "metadata": {},
   "outputs": [
    {
     "data": {
      "text/plain": [
       "Year\n",
       "2003    4606\n",
       "2008    4330\n",
       "2015    4278\n",
       "2004    4257\n",
       "2012    4219\n",
       "2014    4156\n",
       "2010    4055\n",
       "2013    4054\n",
       "2007    4049\n",
       "2009    4007\n",
       "2005    3960\n",
       "2006    3932\n",
       "2011    3905\n",
       "Name: count, dtype: int64"
      ]
     },
     "execution_count": 66,
     "metadata": {},
     "output_type": "execute_result"
    }
   ],
   "source": [
    "car['Year'].value_counts()"
   ]
  },
  {
   "cell_type": "code",
   "execution_count": 67,
   "id": "b434f370",
   "metadata": {},
   "outputs": [
    {
     "data": {
      "text/plain": [
       "<Axes: xlabel='Year', ylabel='count'>"
      ]
     },
     "execution_count": 67,
     "metadata": {},
     "output_type": "execute_result"
    },
    {
     "data": {
      "image/png": "[encoded data removed]",
      "text/plain": [
       "<Figure size 640x480 with 1 Axes>"
      ]
     },
     "metadata": {},
     "output_type": "display_data"
    }
   ],
   "source": [
    "sns.countplot(data=car,x='Year')"
   ]
  },
  {
   "cell_type": "markdown",
   "id": "023cc622",
   "metadata": {},
   "source": [
    "- 2003 have the highest number  car crash \n",
    "- 2008 have the second highest number car crash"
   ]
  },
  {
   "cell_type": "code",
   "execution_count": 68,
   "id": "1ed388e0",
   "metadata": {},
   "outputs": [
    {
     "data": {
      "text/plain": [
       "array(['2-Car', '1-Car', '3+ Cars', 'Pedestrian', 'Cyclist', 'Bus',\n",
       "       'Moped/Motorcycle'], dtype=object)"
      ]
     },
     "execution_count": 68,
     "metadata": {},
     "output_type": "execute_result"
    }
   ],
   "source": [
    "car['Collision Type'].unique()"
   ]
  },
  {
   "cell_type": "code",
   "execution_count": 69,
   "id": "93297500",
   "metadata": {},
   "outputs": [
    {
     "data": {
      "text/plain": [
       "Collision Type\n",
       "2-Car               37508\n",
       "1-Car               10219\n",
       "3+ Cars              3150\n",
       "Moped/Motorcycle     1007\n",
       "Bus                   848\n",
       "Pedestrian            608\n",
       "Cyclist               468\n",
       "Name: count, dtype: int64"
      ]
     },
     "execution_count": 69,
     "metadata": {},
     "output_type": "execute_result"
    }
   ],
   "source": [
    "car['Collision Type'].value_counts()"
   ]
  },
  {
   "cell_type": "code",
   "execution_count": 70,
   "id": "b74f2250",
   "metadata": {},
   "outputs": [
    {
     "data": {
      "text/plain": [
       "<Axes: xlabel='Collision Type', ylabel='count'>"
      ]
     },
     "execution_count": 70,
     "metadata": {},
     "output_type": "execute_result"
    },
    {
     "data": {
      "image/png": "[encoded data removed]",
      "text/plain": [
       "<Figure size 640x480 with 1 Axes>"
      ]
     },
     "metadata": {},
     "output_type": "display_data"
    }
   ],
   "source": [
    "sns.countplot(data=car,x='Collision Type')"
   ]
  },
  {
   "cell_type": "markdown",
   "id": "90a4a280",
   "metadata": {},
   "source": [
    "- 2 car accidents are the most \n",
    "- and the secodn most are 1 car accidents"
   ]
  },
  {
   "cell_type": "code",
   "execution_count": 71,
   "id": "c258d4b4",
   "metadata": {},
   "outputs": [
    {
     "data": {
      "text/html": [
       "<div>\n",
       "<style scoped>\n",
       "    .dataframe tbody tr th:only-of-type {\n",
       "        vertical-align: middle;\n",
       "    }\n",
       "\n",
       "    .dataframe tbody tr th {\n",
       "        vertical-align: top;\n",
       "    }\n",
       "\n",
       "    .dataframe thead th {\n",
       "        text-align: right;\n",
       "    }\n",
       "</style>\n",
       "<table border=\"1\" class=\"dataframe\">\n",
       "  <thead>\n",
       "    <tr style=\"text-align: right;\">\n",
       "      <th></th>\n",
       "      <th>Year</th>\n",
       "      <th>Month</th>\n",
       "      <th>Day</th>\n",
       "      <th>Weekend?</th>\n",
       "      <th>Hour</th>\n",
       "      <th>Collision Type</th>\n",
       "      <th>Injury Type</th>\n",
       "      <th>Primary Factor</th>\n",
       "      <th>Reported_Location</th>\n",
       "      <th>Latitude</th>\n",
       "      <th>Longitude</th>\n",
       "    </tr>\n",
       "  </thead>\n",
       "  <tbody>\n",
       "    <tr>\n",
       "      <th>0</th>\n",
       "      <td>2015</td>\n",
       "      <td>1</td>\n",
       "      <td>5</td>\n",
       "      <td>Weekday</td>\n",
       "      <td>0.0</td>\n",
       "      <td>2-Car</td>\n",
       "      <td>No injury/unknown</td>\n",
       "      <td>OTHER (DRIVER) - EXPLAIN IN NARRATIVE</td>\n",
       "      <td>1ST &amp; FESS</td>\n",
       "      <td>39.159207</td>\n",
       "      <td>-86.525874</td>\n",
       "    </tr>\n",
       "    <tr>\n",
       "      <th>1</th>\n",
       "      <td>2015</td>\n",
       "      <td>1</td>\n",
       "      <td>6</td>\n",
       "      <td>Weekday</td>\n",
       "      <td>1500.0</td>\n",
       "      <td>2-Car</td>\n",
       "      <td>No injury/unknown</td>\n",
       "      <td>FOLLOWING TOO CLOSELY</td>\n",
       "      <td>2ND &amp; COLLEGE</td>\n",
       "      <td>39.161440</td>\n",
       "      <td>-86.534848</td>\n",
       "    </tr>\n",
       "    <tr>\n",
       "      <th>2</th>\n",
       "      <td>2015</td>\n",
       "      <td>1</td>\n",
       "      <td>6</td>\n",
       "      <td>Weekend</td>\n",
       "      <td>2300.0</td>\n",
       "      <td>2-Car</td>\n",
       "      <td>Non-incapacitating</td>\n",
       "      <td>DISREGARD SIGNAL/REG SIGN</td>\n",
       "      <td>BASSWOOD &amp; BLOOMFIELD</td>\n",
       "      <td>39.149780</td>\n",
       "      <td>-86.568890</td>\n",
       "    </tr>\n",
       "    <tr>\n",
       "      <th>3</th>\n",
       "      <td>2015</td>\n",
       "      <td>1</td>\n",
       "      <td>7</td>\n",
       "      <td>Weekend</td>\n",
       "      <td>900.0</td>\n",
       "      <td>2-Car</td>\n",
       "      <td>Non-incapacitating</td>\n",
       "      <td>FAILURE TO YIELD RIGHT OF WAY</td>\n",
       "      <td>GATES &amp; JACOBS</td>\n",
       "      <td>39.165655</td>\n",
       "      <td>-86.575956</td>\n",
       "    </tr>\n",
       "    <tr>\n",
       "      <th>4</th>\n",
       "      <td>2015</td>\n",
       "      <td>1</td>\n",
       "      <td>7</td>\n",
       "      <td>Weekend</td>\n",
       "      <td>1100.0</td>\n",
       "      <td>2-Car</td>\n",
       "      <td>No injury/unknown</td>\n",
       "      <td>FAILURE TO YIELD RIGHT OF WAY</td>\n",
       "      <td>W 3RD</td>\n",
       "      <td>39.164848</td>\n",
       "      <td>-86.579625</td>\n",
       "    </tr>\n",
       "  </tbody>\n",
       "</table>\n",
       "</div>"
      ],
      "text/plain": [
       "   Year  Month  Day Weekend?    Hour Collision Type         Injury Type  \\\n",
       "0  2015      1    5  Weekday     0.0          2-Car   No injury/unknown   \n",
       "1  2015      1    6  Weekday  1500.0          2-Car   No injury/unknown   \n",
       "2  2015      1    6  Weekend  2300.0          2-Car  Non-incapacitating   \n",
       "3  2015      1    7  Weekend   900.0          2-Car  Non-incapacitating   \n",
       "4  2015      1    7  Weekend  1100.0          2-Car   No injury/unknown   \n",
       "\n",
       "                          Primary Factor      Reported_Location   Latitude  \\\n",
       "0  OTHER (DRIVER) - EXPLAIN IN NARRATIVE             1ST & FESS  39.159207   \n",
       "1                  FOLLOWING TOO CLOSELY          2ND & COLLEGE  39.161440   \n",
       "2              DISREGARD SIGNAL/REG SIGN  BASSWOOD & BLOOMFIELD  39.149780   \n",
       "3          FAILURE TO YIELD RIGHT OF WAY         GATES & JACOBS  39.165655   \n",
       "4          FAILURE TO YIELD RIGHT OF WAY                  W 3RD  39.164848   \n",
       "\n",
       "   Longitude  \n",
       "0 -86.525874  \n",
       "1 -86.534848  \n",
       "2 -86.568890  \n",
       "3 -86.575956  \n",
       "4 -86.579625  "
      ]
     },
     "execution_count": 71,
     "metadata": {},
     "output_type": "execute_result"
    }
   ],
   "source": [
    "car.head(5)"
   ]
  },
  {
   "cell_type": "code",
   "execution_count": 73,
   "id": "f3a05e07",
   "metadata": {},
   "outputs": [
    {
     "data": {
      "text/plain": [
       "<Axes: ylabel='count'>"
      ]
     },
     "execution_count": 73,
     "metadata": {},
     "output_type": "execute_result"
    },
    {
     "data": {
      "image/png": "[encoded data removed]",
      "text/plain": [
       "<Figure size 640x480 with 1 Axes>"
      ]
     },
     "metadata": {},
     "output_type": "display_data"
    }
   ],
   "source": [
    "car[\"Primary Factor\"].value_counts().head(10).plot(kind=\"pie\",autopct='%1.0f%%')"
   ]
  },
  {
   "cell_type": "markdown",
   "id": "b0146d79",
   "metadata": {},
   "source": [
    "- 28% of crashes are due to the failure to yield right of way\n",
    "- 17% is because of not keeping fair distance between vehicles which may end in rear end collisions or chain reactions\n",
    "- 14% is because of other driver\n",
    "- 12% because of unsafe backing"
   ]
  },
  {
   "cell_type": "code",
   "execution_count": 74,
   "id": "8a3f4885",
   "metadata": {},
   "outputs": [
    {
     "data": {
      "text/html": [
       "<div>\n",
       "<style scoped>\n",
       "    .dataframe tbody tr th:only-of-type {\n",
       "        vertical-align: middle;\n",
       "    }\n",
       "\n",
       "    .dataframe tbody tr th {\n",
       "        vertical-align: top;\n",
       "    }\n",
       "\n",
       "    .dataframe thead th {\n",
       "        text-align: right;\n",
       "    }\n",
       "</style>\n",
       "<table border=\"1\" class=\"dataframe\">\n",
       "  <thead>\n",
       "    <tr style=\"text-align: right;\">\n",
       "      <th></th>\n",
       "      <th>Year</th>\n",
       "      <th>Month</th>\n",
       "      <th>Day</th>\n",
       "      <th>Weekend?</th>\n",
       "      <th>Hour</th>\n",
       "      <th>Collision Type</th>\n",
       "      <th>Injury Type</th>\n",
       "      <th>Primary Factor</th>\n",
       "      <th>Reported_Location</th>\n",
       "      <th>Latitude</th>\n",
       "      <th>Longitude</th>\n",
       "    </tr>\n",
       "  </thead>\n",
       "  <tbody>\n",
       "    <tr>\n",
       "      <th>0</th>\n",
       "      <td>2015</td>\n",
       "      <td>1</td>\n",
       "      <td>5</td>\n",
       "      <td>Weekday</td>\n",
       "      <td>0.0</td>\n",
       "      <td>2-Car</td>\n",
       "      <td>No injury/unknown</td>\n",
       "      <td>OTHER (DRIVER) - EXPLAIN IN NARRATIVE</td>\n",
       "      <td>1ST &amp; FESS</td>\n",
       "      <td>39.159207</td>\n",
       "      <td>-86.525874</td>\n",
       "    </tr>\n",
       "    <tr>\n",
       "      <th>1</th>\n",
       "      <td>2015</td>\n",
       "      <td>1</td>\n",
       "      <td>6</td>\n",
       "      <td>Weekday</td>\n",
       "      <td>1500.0</td>\n",
       "      <td>2-Car</td>\n",
       "      <td>No injury/unknown</td>\n",
       "      <td>FOLLOWING TOO CLOSELY</td>\n",
       "      <td>2ND &amp; COLLEGE</td>\n",
       "      <td>39.161440</td>\n",
       "      <td>-86.534848</td>\n",
       "    </tr>\n",
       "    <tr>\n",
       "      <th>2</th>\n",
       "      <td>2015</td>\n",
       "      <td>1</td>\n",
       "      <td>6</td>\n",
       "      <td>Weekend</td>\n",
       "      <td>2300.0</td>\n",
       "      <td>2-Car</td>\n",
       "      <td>Non-incapacitating</td>\n",
       "      <td>DISREGARD SIGNAL/REG SIGN</td>\n",
       "      <td>BASSWOOD &amp; BLOOMFIELD</td>\n",
       "      <td>39.149780</td>\n",
       "      <td>-86.568890</td>\n",
       "    </tr>\n",
       "    <tr>\n",
       "      <th>3</th>\n",
       "      <td>2015</td>\n",
       "      <td>1</td>\n",
       "      <td>7</td>\n",
       "      <td>Weekend</td>\n",
       "      <td>900.0</td>\n",
       "      <td>2-Car</td>\n",
       "      <td>Non-incapacitating</td>\n",
       "      <td>FAILURE TO YIELD RIGHT OF WAY</td>\n",
       "      <td>GATES &amp; JACOBS</td>\n",
       "      <td>39.165655</td>\n",
       "      <td>-86.575956</td>\n",
       "    </tr>\n",
       "    <tr>\n",
       "      <th>4</th>\n",
       "      <td>2015</td>\n",
       "      <td>1</td>\n",
       "      <td>7</td>\n",
       "      <td>Weekend</td>\n",
       "      <td>1100.0</td>\n",
       "      <td>2-Car</td>\n",
       "      <td>No injury/unknown</td>\n",
       "      <td>FAILURE TO YIELD RIGHT OF WAY</td>\n",
       "      <td>W 3RD</td>\n",
       "      <td>39.164848</td>\n",
       "      <td>-86.579625</td>\n",
       "    </tr>\n",
       "  </tbody>\n",
       "</table>\n",
       "</div>"
      ],
      "text/plain": [
       "   Year  Month  Day Weekend?    Hour Collision Type         Injury Type  \\\n",
       "0  2015      1    5  Weekday     0.0          2-Car   No injury/unknown   \n",
       "1  2015      1    6  Weekday  1500.0          2-Car   No injury/unknown   \n",
       "2  2015      1    6  Weekend  2300.0          2-Car  Non-incapacitating   \n",
       "3  2015      1    7  Weekend   900.0          2-Car  Non-incapacitating   \n",
       "4  2015      1    7  Weekend  1100.0          2-Car   No injury/unknown   \n",
       "\n",
       "                          Primary Factor      Reported_Location   Latitude  \\\n",
       "0  OTHER (DRIVER) - EXPLAIN IN NARRATIVE             1ST & FESS  39.159207   \n",
       "1                  FOLLOWING TOO CLOSELY          2ND & COLLEGE  39.161440   \n",
       "2              DISREGARD SIGNAL/REG SIGN  BASSWOOD & BLOOMFIELD  39.149780   \n",
       "3          FAILURE TO YIELD RIGHT OF WAY         GATES & JACOBS  39.165655   \n",
       "4          FAILURE TO YIELD RIGHT OF WAY                  W 3RD  39.164848   \n",
       "\n",
       "   Longitude  \n",
       "0 -86.525874  \n",
       "1 -86.534848  \n",
       "2 -86.568890  \n",
       "3 -86.575956  \n",
       "4 -86.579625  "
      ]
     },
     "execution_count": 74,
     "metadata": {},
     "output_type": "execute_result"
    }
   ],
   "source": [
    "car.head(5)"
   ]
  },
  {
   "cell_type": "code",
   "execution_count": 76,
   "id": "68b33292",
   "metadata": {},
   "outputs": [
    {
     "data": {
      "text/plain": [
       "<matplotlib.legend.Legend at 0x249048a4990>"
      ]
     },
     "execution_count": 76,
     "metadata": {},
     "output_type": "execute_result"
    },
    {
     "data": {
      "image/png": "[encoded data removed]",
      "text/plain": [
       "<Figure size 640x480 with 1 Axes>"
      ]
     },
     "metadata": {},
     "output_type": "display_data"
    }
   ],
   "source": [
    "sns.countplot(data=car,x=\"Year\",hue=\"Month\")\n",
    "plt.legend(bbox_to_anchor=(1.5,1), loc='upper right')"
   ]
  },
  {
   "cell_type": "code",
   "execution_count": 7,
   "id": "71e0bd44",
   "metadata": {},
   "outputs": [
    {
     "data": {
      "text/plain": [
       "array(['No injury/unknown', 'Non-incapacitating', 'Incapacitating',\n",
       "       'Fatal'], dtype=object)"
      ]
     },
     "execution_count": 7,
     "metadata": {},
     "output_type": "execute_result"
    }
   ],
   "source": [
    "car['Injury Type'].unique()"
   ]
  },
  {
   "cell_type": "code",
   "execution_count": 8,
   "id": "65409d97",
   "metadata": {},
   "outputs": [
    {
     "data": {
      "text/plain": [
       "Injury Type\n",
       "No injury/unknown     41603\n",
       "Non-incapacitating    11136\n",
       "Incapacitating         1089\n",
       "Fatal                   115\n",
       "Name: count, dtype: int64"
      ]
     },
     "execution_count": 8,
     "metadata": {},
     "output_type": "execute_result"
    }
   ],
   "source": [
    "car['Injury Type'].value_counts()"
   ]
  },
  {
   "cell_type": "code",
   "execution_count": 10,
   "id": "a6cbb94f",
   "metadata": {},
   "outputs": [
    {
     "data": {
      "text/plain": [
       "<Axes: ylabel='count'>"
      ]
     },
     "execution_count": 10,
     "metadata": {},
     "output_type": "execute_result"
    },
    {
     "data": {
      "image/png": "[encoded data removed]",
      "text/plain": [
       "<Figure size 640x480 with 1 Axes>"
      ]
     },
     "metadata": {},
     "output_type": "display_data"
    }
   ],
   "source": [
    "car['Injury Type'].value_counts().plot(kind='pie',autopct='%1.0f%%')"
   ]
  },
  {
   "cell_type": "markdown",
   "id": "1a8a7f7a",
   "metadata": {},
   "source": [
    "- 77% of car crashes are with no injury\n",
    "- 20.7% non incapacitating which means small injuries that doesnot affect their daily activities\n",
    "- 2% incapacitating which means their will be big injuries that limit your ability to complete with daily activities\n",
    "- only 0.2% is fatal"
   ]
  },
  {
   "cell_type": "code",
   "execution_count": 13,
   "id": "392fa29d",
   "metadata": {},
   "outputs": [
    {
     "data": {
      "text/plain": [
       "array(['1ST & FESS', '2ND & COLLEGE', 'BASSWOOD & BLOOMFIELD', ...,\n",
       "       'RAPPLE & SR45', 'NINETH & NORTH', 'MONROW & THIRD ST'],\n",
       "      dtype=object)"
      ]
     },
     "execution_count": 13,
     "metadata": {},
     "output_type": "execute_result"
    }
   ],
   "source": [
    "car['Reported_Location'].unique()"
   ]
  },
  {
   "cell_type": "code",
   "execution_count": 16,
   "id": "bceb8cbd",
   "metadata": {},
   "outputs": [
    {
     "data": {
      "text/plain": [
       "Reported_Location\n",
       "E 3RD ST                         375\n",
       "W 3RD ST                         222\n",
       "SR37N & VERNAL                   197\n",
       "3RD ST                           195\n",
       "S WALNUT ST                      172\n",
       "                                ... \n",
       "GARRISON CHAPEL RD & TRENDMAR      1\n",
       "GOODNIGHT & S CLARIZZ BLVD         1\n",
       "ADAIR & PLEASANT RIDGE RD          1\n",
       "BRIGHTON CRST & SMITH              1\n",
       "MONROW & THIRD ST                  1\n",
       "Name: count, Length: 19364, dtype: int64"
      ]
     },
     "execution_count": 16,
     "metadata": {},
     "output_type": "execute_result"
    }
   ],
   "source": [
    "car['Reported_Location'].value_counts()"
   ]
  },
  {
   "cell_type": "code",
   "execution_count": 15,
   "id": "5247ec39",
   "metadata": {},
   "outputs": [
    {
     "data": {
      "text/plain": [
       "<Axes: xlabel='Reported_Location'>"
      ]
     },
     "execution_count": 15,
     "metadata": {},
     "output_type": "execute_result"
    },
    {
     "data": {
      "image/png": "[encoded data removed]",
      "text/plain": [
       "<Figure size 640x480 with 1 Axes>"
      ]
     },
     "metadata": {},
     "output_type": "display_data"
    }
   ],
   "source": [
    "car['Reported_Location'].value_counts().head(10).plot(kind='bar')"
   ]
  },
  {
   "cell_type": "markdown",
   "id": "83d2337d",
   "metadata": {},
   "source": [
    "- E 3RD ST have the heighest car crash \n",
    "- W 3RD ST have the second heighest car crash"
   ]
  },
  {
   "cell_type": "code",
   "execution_count": 18,
   "id": "6bd6cd5b",
   "metadata": {},
   "outputs": [
    {
     "data": {
      "text/plain": [
       "<Axes: xlabel='Primary Factor'>"
      ]
     },
     "execution_count": 18,
     "metadata": {},
     "output_type": "execute_result"
    },
    {
     "data": {
      "image/png": "[encoded data removed]",
      "text/plain": [
       "<Figure size 640x480 with 1 Axes>"
      ]
     },
     "metadata": {},
     "output_type": "display_data"
    }
   ],
   "source": [
    "car[\"Primary Factor\"].value_counts().head(10).plot(kind=\"bar\")"
   ]
  },
  {
   "cell_type": "code",
   "execution_count": 20,
   "id": "5f0f947e",
   "metadata": {},
   "outputs": [
    {
     "data": {
      "text/plain": [
       "Primary Factor\n",
       "FAILURE TO YIELD RIGHT OF WAY               11193\n",
       "FOLLOWING TOO CLOSELY                        7359\n",
       "OTHER (DRIVER) - EXPLAIN IN NARRATIVE        6158\n",
       "UNSAFE BACKING                               5188\n",
       "RAN OFF ROAD RIGHT                           2925\n",
       "DISREGARD SIGNAL/REG SIGN                    2206\n",
       "SPEED TOO FAST FOR WEATHER CONDITIONS        1921\n",
       "IMPROPER TURNING                             1843\n",
       "ANIMAL/OBJECT IN ROADWAY                     1688\n",
       "DRIVER DISTRACTED - EXPLAIN IN NARRATIVE     1656\n",
       "Name: count, dtype: int64"
      ]
     },
     "execution_count": 20,
     "metadata": {},
     "output_type": "execute_result"
    }
   ],
   "source": [
    "car['Primary Factor'].value_counts().head(10)"
   ]
  },
  {
   "cell_type": "code",
   "execution_count": 21,
   "id": "dec72ced",
   "metadata": {},
   "outputs": [],
   "source": [
    "car2=car[car['Injury Type']=='Fatal']"
   ]
  },
  {
   "cell_type": "code",
   "execution_count": 23,
   "id": "b18350db",
   "metadata": {},
   "outputs": [
    {
     "data": {
      "text/html": [
       "<div>\n",
       "<style scoped>\n",
       "    .dataframe tbody tr th:only-of-type {\n",
       "        vertical-align: middle;\n",
       "    }\n",
       "\n",
       "    .dataframe tbody tr th {\n",
       "        vertical-align: top;\n",
       "    }\n",
       "\n",
       "    .dataframe thead th {\n",
       "        text-align: right;\n",
       "    }\n",
       "</style>\n",
       "<table border=\"1\" class=\"dataframe\">\n",
       "  <thead>\n",
       "    <tr style=\"text-align: right;\">\n",
       "      <th></th>\n",
       "      <th>Year</th>\n",
       "      <th>Month</th>\n",
       "      <th>Day</th>\n",
       "      <th>Weekend?</th>\n",
       "      <th>Hour</th>\n",
       "      <th>Collision Type</th>\n",
       "      <th>Injury Type</th>\n",
       "      <th>Primary Factor</th>\n",
       "      <th>Reported_Location</th>\n",
       "      <th>Latitude</th>\n",
       "      <th>Longitude</th>\n",
       "    </tr>\n",
       "  </thead>\n",
       "  <tbody>\n",
       "    <tr>\n",
       "      <th>530</th>\n",
       "      <td>2015</td>\n",
       "      <td>4</td>\n",
       "      <td>6</td>\n",
       "      <td>Weekday</td>\n",
       "      <td>1600.0</td>\n",
       "      <td>1-Car</td>\n",
       "      <td>Fatal</td>\n",
       "      <td>RAN OFF ROAD RIGHT</td>\n",
       "      <td>DUNCAN &amp; W LEONARD SPRINGS</td>\n",
       "      <td>39.122352</td>\n",
       "      <td>-86.596400</td>\n",
       "    </tr>\n",
       "    <tr>\n",
       "      <th>531</th>\n",
       "      <td>2015</td>\n",
       "      <td>4</td>\n",
       "      <td>7</td>\n",
       "      <td>Weekend</td>\n",
       "      <td>1500.0</td>\n",
       "      <td>2-Car</td>\n",
       "      <td>Fatal</td>\n",
       "      <td>RAN OFF ROAD RIGHT</td>\n",
       "      <td>KIRBY &amp; W ST RD 48</td>\n",
       "      <td>39.059185</td>\n",
       "      <td>-86.610820</td>\n",
       "    </tr>\n",
       "    <tr>\n",
       "      <th>649</th>\n",
       "      <td>2015</td>\n",
       "      <td>1</td>\n",
       "      <td>4</td>\n",
       "      <td>Weekday</td>\n",
       "      <td>1700.0</td>\n",
       "      <td>2-Car</td>\n",
       "      <td>Fatal</td>\n",
       "      <td>OTHER (DRIVER) - EXPLAIN IN NARRATIVE</td>\n",
       "      <td>SR 45</td>\n",
       "      <td>39.125312</td>\n",
       "      <td>-86.610496</td>\n",
       "    </tr>\n",
       "    <tr>\n",
       "      <th>1334</th>\n",
       "      <td>2015</td>\n",
       "      <td>4</td>\n",
       "      <td>1</td>\n",
       "      <td>Weekend</td>\n",
       "      <td>700.0</td>\n",
       "      <td>1-Car</td>\n",
       "      <td>Fatal</td>\n",
       "      <td>RAN OFF ROAD RIGHT</td>\n",
       "      <td>INGRAM &amp; SR37N</td>\n",
       "      <td>39.002892</td>\n",
       "      <td>-86.537282</td>\n",
       "    </tr>\n",
       "    <tr>\n",
       "      <th>1873</th>\n",
       "      <td>2015</td>\n",
       "      <td>6</td>\n",
       "      <td>3</td>\n",
       "      <td>Weekday</td>\n",
       "      <td>2200.0</td>\n",
       "      <td>Moped/Motorcycle</td>\n",
       "      <td>Fatal</td>\n",
       "      <td>RAN OFF ROAD RIGHT</td>\n",
       "      <td>SR37S &amp; STATE ROAD 45</td>\n",
       "      <td>39.252134</td>\n",
       "      <td>-86.575043</td>\n",
       "    </tr>\n",
       "    <tr>\n",
       "      <th>...</th>\n",
       "      <td>...</td>\n",
       "      <td>...</td>\n",
       "      <td>...</td>\n",
       "      <td>...</td>\n",
       "      <td>...</td>\n",
       "      <td>...</td>\n",
       "      <td>...</td>\n",
       "      <td>...</td>\n",
       "      <td>...</td>\n",
       "      <td>...</td>\n",
       "      <td>...</td>\n",
       "    </tr>\n",
       "    <tr>\n",
       "      <th>53043</th>\n",
       "      <td>2003</td>\n",
       "      <td>6</td>\n",
       "      <td>5</td>\n",
       "      <td>Weekday</td>\n",
       "      <td>700.0</td>\n",
       "      <td>2-Car</td>\n",
       "      <td>Fatal</td>\n",
       "      <td>LEFT OF CENTER</td>\n",
       "      <td>FULLERTON PIKE &amp; SR 37</td>\n",
       "      <td>39.122332</td>\n",
       "      <td>-86.569889</td>\n",
       "    </tr>\n",
       "    <tr>\n",
       "      <th>53289</th>\n",
       "      <td>2003</td>\n",
       "      <td>4</td>\n",
       "      <td>7</td>\n",
       "      <td>Weekend</td>\n",
       "      <td>0.0</td>\n",
       "      <td>Moped/Motorcycle</td>\n",
       "      <td>Fatal</td>\n",
       "      <td>ALCOHOLIC BEVERAGES</td>\n",
       "      <td>CLEVE BUTCHER &amp; FAIRFAX</td>\n",
       "      <td>39.060039</td>\n",
       "      <td>-86.498433</td>\n",
       "    </tr>\n",
       "    <tr>\n",
       "      <th>53665</th>\n",
       "      <td>2003</td>\n",
       "      <td>10</td>\n",
       "      <td>6</td>\n",
       "      <td>Weekday</td>\n",
       "      <td>400.0</td>\n",
       "      <td>1-Car</td>\n",
       "      <td>Fatal</td>\n",
       "      <td>RAN OFF ROAD LEFT</td>\n",
       "      <td>CEDAR BLUFF &amp; SR37</td>\n",
       "      <td>0.000000</td>\n",
       "      <td>0.000000</td>\n",
       "    </tr>\n",
       "    <tr>\n",
       "      <th>53681</th>\n",
       "      <td>2003</td>\n",
       "      <td>5</td>\n",
       "      <td>4</td>\n",
       "      <td>Weekday</td>\n",
       "      <td>1700.0</td>\n",
       "      <td>2-Car</td>\n",
       "      <td>Fatal</td>\n",
       "      <td>LEFT OF CENTER</td>\n",
       "      <td>BURGOON CHAPEL &amp; SR446</td>\n",
       "      <td>0.000000</td>\n",
       "      <td>0.000000</td>\n",
       "    </tr>\n",
       "    <tr>\n",
       "      <th>53685</th>\n",
       "      <td>2003</td>\n",
       "      <td>7</td>\n",
       "      <td>5</td>\n",
       "      <td>Weekday</td>\n",
       "      <td>500.0</td>\n",
       "      <td>1-Car</td>\n",
       "      <td>Fatal</td>\n",
       "      <td>PEDESTRIAN ACTION</td>\n",
       "      <td>RHORER RED &amp; SR37</td>\n",
       "      <td>0.000000</td>\n",
       "      <td>0.000000</td>\n",
       "    </tr>\n",
       "  </tbody>\n",
       "</table>\n",
       "<p>115 rows × 11 columns</p>\n",
       "</div>"
      ],
      "text/plain": [
       "       Year  Month  Day Weekend?    Hour    Collision Type Injury Type  \\\n",
       "530    2015      4    6  Weekday  1600.0             1-Car       Fatal   \n",
       "531    2015      4    7  Weekend  1500.0             2-Car       Fatal   \n",
       "649    2015      1    4  Weekday  1700.0             2-Car       Fatal   \n",
       "1334   2015      4    1  Weekend   700.0             1-Car       Fatal   \n",
       "1873   2015      6    3  Weekday  2200.0  Moped/Motorcycle       Fatal   \n",
       "...     ...    ...  ...      ...     ...               ...         ...   \n",
       "53043  2003      6    5  Weekday   700.0             2-Car       Fatal   \n",
       "53289  2003      4    7  Weekend     0.0  Moped/Motorcycle       Fatal   \n",
       "53665  2003     10    6  Weekday   400.0             1-Car       Fatal   \n",
       "53681  2003      5    4  Weekday  1700.0             2-Car       Fatal   \n",
       "53685  2003      7    5  Weekday   500.0             1-Car       Fatal   \n",
       "\n",
       "                              Primary Factor           Reported_Location  \\\n",
       "530                       RAN OFF ROAD RIGHT  DUNCAN & W LEONARD SPRINGS   \n",
       "531                       RAN OFF ROAD RIGHT          KIRBY & W ST RD 48   \n",
       "649    OTHER (DRIVER) - EXPLAIN IN NARRATIVE                       SR 45   \n",
       "1334                      RAN OFF ROAD RIGHT              INGRAM & SR37N   \n",
       "1873                      RAN OFF ROAD RIGHT       SR37S & STATE ROAD 45   \n",
       "...                                      ...                         ...   \n",
       "53043                         LEFT OF CENTER      FULLERTON PIKE & SR 37   \n",
       "53289                    ALCOHOLIC BEVERAGES     CLEVE BUTCHER & FAIRFAX   \n",
       "53665                      RAN OFF ROAD LEFT          CEDAR BLUFF & SR37   \n",
       "53681                         LEFT OF CENTER      BURGOON CHAPEL & SR446   \n",
       "53685                      PEDESTRIAN ACTION           RHORER RED & SR37   \n",
       "\n",
       "        Latitude  Longitude  \n",
       "530    39.122352 -86.596400  \n",
       "531    39.059185 -86.610820  \n",
       "649    39.125312 -86.610496  \n",
       "1334   39.002892 -86.537282  \n",
       "1873   39.252134 -86.575043  \n",
       "...          ...        ...  \n",
       "53043  39.122332 -86.569889  \n",
       "53289  39.060039 -86.498433  \n",
       "53665   0.000000   0.000000  \n",
       "53681   0.000000   0.000000  \n",
       "53685   0.000000   0.000000  \n",
       "\n",
       "[115 rows x 11 columns]"
      ]
     },
     "execution_count": 23,
     "metadata": {},
     "output_type": "execute_result"
    }
   ],
   "source": [
    "car2"
   ]
  },
  {
   "cell_type": "code",
   "execution_count": 25,
   "id": "2467077b",
   "metadata": {},
   "outputs": [
    {
     "data": {
      "text/plain": [
       "Primary Factor\n",
       "RAN OFF ROAD RIGHT                          29\n",
       "LEFT OF CENTER                              22\n",
       "UNSAFE SPEED                                15\n",
       "FAILURE TO YIELD RIGHT OF WAY                8\n",
       "PEDESTRIAN ACTION                            7\n",
       "OTHER (DRIVER) - EXPLAIN IN NARRATIVE        7\n",
       "ALCOHOLIC BEVERAGES                          6\n",
       "DISREGARD SIGNAL/REG SIGN                    4\n",
       "RAN OFF ROAD LEFT                            3\n",
       "OVERCORRECTING/OVERSTEERING                  3\n",
       "OTHER (ENVIRONMENTAL) - EXPLAIN IN NARR      1\n",
       "DRIVER ASLEEP OR FATIGUED                    1\n",
       "ROADWAY SURFACE CONDITION                    1\n",
       "DRIVER DISTRACTED - EXPLAIN IN NARRATIVE     1\n",
       "IMPROPER LANE USAGE                          1\n",
       "IMPROPER PASSING                             1\n",
       "ACCELERATOR FAILURE OR DEFECTIVE             1\n",
       "ANIMAL/OBJECT IN ROADWAY                     1\n",
       "FOLLOWING TOO CLOSELY                        1\n",
       "OBSTRUCTION NOT MARKED                       1\n",
       "SPEED TOO FAST FOR WEATHER CONDITIONS        1\n",
       "Name: count, dtype: int64"
      ]
     },
     "execution_count": 25,
     "metadata": {},
     "output_type": "execute_result"
    }
   ],
   "source": [
    "car2['Primary Factor'].value_counts()"
   ]
  },
  {
   "cell_type": "code",
   "execution_count": 27,
   "id": "67a7856b",
   "metadata": {},
   "outputs": [
    {
     "data": {
      "text/plain": [
       "(array([ 0,  1,  2,  3,  4,  5,  6,  7,  8,  9, 10, 11, 12, 13, 14, 15, 16,\n",
       "        17, 18, 19, 20]),\n",
       " [Text(0, 0, 'RAN OFF ROAD RIGHT'),\n",
       "  Text(1, 0, 'OTHER (DRIVER) - EXPLAIN IN NARRATIVE'),\n",
       "  Text(2, 0, 'UNSAFE SPEED'),\n",
       "  Text(3, 0, 'DISREGARD SIGNAL/REG SIGN'),\n",
       "  Text(4, 0, 'LEFT OF CENTER'),\n",
       "  Text(5, 0, 'OBSTRUCTION NOT MARKED'),\n",
       "  Text(6, 0, 'PEDESTRIAN ACTION'),\n",
       "  Text(7, 0, 'FAILURE TO YIELD RIGHT OF WAY'),\n",
       "  Text(8, 0, 'FOLLOWING TOO CLOSELY'),\n",
       "  Text(9, 0, 'OVERCORRECTING/OVERSTEERING'),\n",
       "  Text(10, 0, 'IMPROPER LANE USAGE'),\n",
       "  Text(11, 0, 'ANIMAL/OBJECT IN ROADWAY'),\n",
       "  Text(12, 0, 'ACCELERATOR FAILURE OR DEFECTIVE'),\n",
       "  Text(13, 0, 'IMPROPER PASSING'),\n",
       "  Text(14, 0, 'ALCOHOLIC BEVERAGES'),\n",
       "  Text(15, 0, 'DRIVER DISTRACTED - EXPLAIN IN NARRATIVE'),\n",
       "  Text(16, 0, 'ROADWAY SURFACE CONDITION'),\n",
       "  Text(17, 0, 'DRIVER ASLEEP OR FATIGUED'),\n",
       "  Text(18, 0, 'RAN OFF ROAD LEFT'),\n",
       "  Text(19, 0, 'OTHER (ENVIRONMENTAL) - EXPLAIN IN NARR'),\n",
       "  Text(20, 0, 'SPEED TOO FAST FOR WEATHER CONDITIONS')])"
      ]
     },
     "execution_count": 27,
     "metadata": {},
     "output_type": "execute_result"
    },
    {
     "data": {
      "image/png": "[encoded data removed]",
      "text/plain": [
       "<Figure size 640x480 with 1 Axes>"
      ]
     },
     "metadata": {},
     "output_type": "display_data"
    }
   ],
   "source": [
    "sns.countplot(data=car2,x='Primary Factor')\n",
    "plt.xticks(rotation=90)"
   ]
  },
  {
   "cell_type": "markdown",
   "id": "f42bca44",
   "metadata": {},
   "source": [
    "- the three main reason for car crash that lead to fatal injuries are \n",
    "- RAN OFF ROAD RIGHT \n",
    "- LEFT OF CENTER \n",
    "- UNSAFE SPEED    "
   ]
  },
  {
   "cell_type": "code",
   "execution_count": 37,
   "id": "d86ef3a8",
   "metadata": {},
   "outputs": [
    {
     "data": {
      "text/plain": [
       "Collision Type\n",
       "1-Car               49\n",
       "2-Car               31\n",
       "Moped/Motorcycle    21\n",
       "Pedestrian           8\n",
       "3+ Cars              5\n",
       "Bus                  1\n",
       "Name: count, dtype: int64"
      ]
     },
     "execution_count": 37,
     "metadata": {},
     "output_type": "execute_result"
    }
   ],
   "source": [
    "car2['Collision Type'].value_counts()"
   ]
  },
  {
   "cell_type": "code",
   "execution_count": 40,
   "id": "add9f9e1",
   "metadata": {},
   "outputs": [
    {
     "data": {
      "text/plain": [
       "(array([0, 1, 2, 3, 4, 5]),\n",
       " [Text(0, 0, '1-Car'),\n",
       "  Text(1, 0, '2-Car'),\n",
       "  Text(2, 0, 'Moped/Motorcycle'),\n",
       "  Text(3, 0, 'Pedestrian'),\n",
       "  Text(4, 0, '3+ Cars'),\n",
       "  Text(5, 0, 'Bus')])"
      ]
     },
     "execution_count": 40,
     "metadata": {},
     "output_type": "execute_result"
    },
    {
     "data": {
      "image/png": "[encoded data removed]",
      "text/plain": [
       "<Figure size 640x480 with 1 Axes>"
      ]
     },
     "metadata": {},
     "output_type": "display_data"
    }
   ],
   "source": [
    "sns.countplot(data=car2,x='Collision Type')\n",
    "plt.xticks(rotation=60)"
   ]
  },
  {
   "cell_type": "markdown",
   "id": "f9ba536f",
   "metadata": {},
   "source": [
    "- most of the fatal injury happened because of 1 car accident"
   ]
  },
  {
   "cell_type": "code",
   "execution_count": 28,
   "id": "673a504c",
   "metadata": {},
   "outputs": [
    {
     "data": {
      "text/plain": [
       "array([   0., 1500., 2300.,  900., 1100., 1800., 1200., 1400., 1600.,\n",
       "       1700., 1300.,  700., 2100., 2000., 1900.,  400., 1000.,  600.,\n",
       "        800., 2200.,  100.,  200.,  300.,  500.,   nan])"
      ]
     },
     "execution_count": 28,
     "metadata": {},
     "output_type": "execute_result"
    }
   ],
   "source": [
    "car['Hour'].unique()"
   ]
  },
  {
   "cell_type": "code",
   "execution_count": 30,
   "id": "2821f4af",
   "metadata": {},
   "outputs": [
    {
     "data": {
      "text/plain": [
       "Hour\n",
       "1700.0    4631\n",
       "1600.0    4488\n",
       "1500.0    4283\n",
       "1200.0    3819\n",
       "1400.0    3750\n",
       "1300.0    3526\n",
       "1800.0    3232\n",
       "1100.0    3040\n",
       "1900.0    2442\n",
       "1000.0    2360\n",
       "900.0     2318\n",
       "800.0     2247\n",
       "700.0     2031\n",
       "2000.0    1918\n",
       "2100.0    1794\n",
       "2200.0    1503\n",
       "2300.0    1187\n",
       "0.0       1115\n",
       "600.0      806\n",
       "100.0      801\n",
       "300.0      719\n",
       "200.0      716\n",
       "500.0      514\n",
       "400.0      478\n",
       "Name: count, dtype: int64"
      ]
     },
     "execution_count": 30,
     "metadata": {},
     "output_type": "execute_result"
    }
   ],
   "source": [
    "car['Hour'].value_counts()"
   ]
  },
  {
   "cell_type": "code",
   "execution_count": 33,
   "id": "8e4b2490",
   "metadata": {},
   "outputs": [
    {
     "data": {
      "text/plain": [
       "(array([ 0,  1,  2,  3,  4,  5,  6,  7,  8,  9, 10, 11, 12, 13, 14, 15, 16,\n",
       "        17, 18, 19, 20, 21, 22, 23]),\n",
       " [Text(0, 0, '0.0'),\n",
       "  Text(1, 0, '100.0'),\n",
       "  Text(2, 0, '200.0'),\n",
       "  Text(3, 0, '300.0'),\n",
       "  Text(4, 0, '400.0'),\n",
       "  Text(5, 0, '500.0'),\n",
       "  Text(6, 0, '600.0'),\n",
       "  Text(7, 0, '700.0'),\n",
       "  Text(8, 0, '800.0'),\n",
       "  Text(9, 0, '900.0'),\n",
       "  Text(10, 0, '1000.0'),\n",
       "  Text(11, 0, '1100.0'),\n",
       "  Text(12, 0, '1200.0'),\n",
       "  Text(13, 0, '1300.0'),\n",
       "  Text(14, 0, '1400.0'),\n",
       "  Text(15, 0, '1500.0'),\n",
       "  Text(16, 0, '1600.0'),\n",
       "  Text(17, 0, '1700.0'),\n",
       "  Text(18, 0, '1800.0'),\n",
       "  Text(19, 0, '1900.0'),\n",
       "  Text(20, 0, '2000.0'),\n",
       "  Text(21, 0, '2100.0'),\n",
       "  Text(22, 0, '2200.0'),\n",
       "  Text(23, 0, '2300.0')])"
      ]
     },
     "execution_count": 33,
     "metadata": {},
     "output_type": "execute_result"
    },
    {
     "data": {
      "image/png": "[encoded data removed]",
      "text/plain": [
       "<Figure size 640x480 with 1 Axes>"
      ]
     },
     "metadata": {},
     "output_type": "display_data"
    }
   ],
   "source": [
    "sns.countplot(data=car,x='Hour')\n",
    "plt.xticks(rotation=90)"
   ]
  },
  {
   "cell_type": "markdown",
   "id": "cb501400",
   "metadata": {},
   "source": [
    "- the most of the accident happen at the time of 3:00 ,4:00,5:00 \n",
    "- this is because of the traffic , that the time of employess are leaving their office \n",
    "- as we mention above most of the accidents are in weekdays "
   ]
  },
  {
   "cell_type": "code",
   "execution_count": 35,
   "id": "b74c9fad",
   "metadata": {},
   "outputs": [
    {
     "data": {
      "text/html": [
       "<div>\n",
       "<style scoped>\n",
       "    .dataframe tbody tr th:only-of-type {\n",
       "        vertical-align: middle;\n",
       "    }\n",
       "\n",
       "    .dataframe tbody tr th {\n",
       "        vertical-align: top;\n",
       "    }\n",
       "\n",
       "    .dataframe thead th {\n",
       "        text-align: right;\n",
       "    }\n",
       "</style>\n",
       "<table border=\"1\" class=\"dataframe\">\n",
       "  <thead>\n",
       "    <tr style=\"text-align: right;\">\n",
       "      <th></th>\n",
       "      <th>Year</th>\n",
       "      <th>Month</th>\n",
       "      <th>Day</th>\n",
       "      <th>Weekend?</th>\n",
       "      <th>Hour</th>\n",
       "      <th>Collision Type</th>\n",
       "      <th>Injury Type</th>\n",
       "      <th>Primary Factor</th>\n",
       "      <th>Reported_Location</th>\n",
       "      <th>Latitude</th>\n",
       "      <th>Longitude</th>\n",
       "    </tr>\n",
       "  </thead>\n",
       "  <tbody>\n",
       "    <tr>\n",
       "      <th>0</th>\n",
       "      <td>2015</td>\n",
       "      <td>1</td>\n",
       "      <td>5</td>\n",
       "      <td>Weekday</td>\n",
       "      <td>0.0</td>\n",
       "      <td>2-Car</td>\n",
       "      <td>No injury/unknown</td>\n",
       "      <td>OTHER (DRIVER) - EXPLAIN IN NARRATIVE</td>\n",
       "      <td>1ST &amp; FESS</td>\n",
       "      <td>39.159207</td>\n",
       "      <td>-86.525874</td>\n",
       "    </tr>\n",
       "    <tr>\n",
       "      <th>1</th>\n",
       "      <td>2015</td>\n",
       "      <td>1</td>\n",
       "      <td>6</td>\n",
       "      <td>Weekday</td>\n",
       "      <td>1500.0</td>\n",
       "      <td>2-Car</td>\n",
       "      <td>No injury/unknown</td>\n",
       "      <td>FOLLOWING TOO CLOSELY</td>\n",
       "      <td>2ND &amp; COLLEGE</td>\n",
       "      <td>39.161440</td>\n",
       "      <td>-86.534848</td>\n",
       "    </tr>\n",
       "    <tr>\n",
       "      <th>2</th>\n",
       "      <td>2015</td>\n",
       "      <td>1</td>\n",
       "      <td>6</td>\n",
       "      <td>Weekend</td>\n",
       "      <td>2300.0</td>\n",
       "      <td>2-Car</td>\n",
       "      <td>Non-incapacitating</td>\n",
       "      <td>DISREGARD SIGNAL/REG SIGN</td>\n",
       "      <td>BASSWOOD &amp; BLOOMFIELD</td>\n",
       "      <td>39.149780</td>\n",
       "      <td>-86.568890</td>\n",
       "    </tr>\n",
       "    <tr>\n",
       "      <th>3</th>\n",
       "      <td>2015</td>\n",
       "      <td>1</td>\n",
       "      <td>7</td>\n",
       "      <td>Weekend</td>\n",
       "      <td>900.0</td>\n",
       "      <td>2-Car</td>\n",
       "      <td>Non-incapacitating</td>\n",
       "      <td>FAILURE TO YIELD RIGHT OF WAY</td>\n",
       "      <td>GATES &amp; JACOBS</td>\n",
       "      <td>39.165655</td>\n",
       "      <td>-86.575956</td>\n",
       "    </tr>\n",
       "    <tr>\n",
       "      <th>4</th>\n",
       "      <td>2015</td>\n",
       "      <td>1</td>\n",
       "      <td>7</td>\n",
       "      <td>Weekend</td>\n",
       "      <td>1100.0</td>\n",
       "      <td>2-Car</td>\n",
       "      <td>No injury/unknown</td>\n",
       "      <td>FAILURE TO YIELD RIGHT OF WAY</td>\n",
       "      <td>W 3RD</td>\n",
       "      <td>39.164848</td>\n",
       "      <td>-86.579625</td>\n",
       "    </tr>\n",
       "    <tr>\n",
       "      <th>5</th>\n",
       "      <td>2015</td>\n",
       "      <td>1</td>\n",
       "      <td>6</td>\n",
       "      <td>Weekday</td>\n",
       "      <td>1800.0</td>\n",
       "      <td>2-Car</td>\n",
       "      <td>No injury/unknown</td>\n",
       "      <td>FAILURE TO YIELD RIGHT OF WAY</td>\n",
       "      <td>BURKS &amp; WALNUT</td>\n",
       "      <td>39.126670</td>\n",
       "      <td>-86.531370</td>\n",
       "    </tr>\n",
       "    <tr>\n",
       "      <th>6</th>\n",
       "      <td>2015</td>\n",
       "      <td>1</td>\n",
       "      <td>6</td>\n",
       "      <td>Weekday</td>\n",
       "      <td>1200.0</td>\n",
       "      <td>2-Car</td>\n",
       "      <td>No injury/unknown</td>\n",
       "      <td>DRIVER DISTRACTED - EXPLAIN IN NARRATIVE</td>\n",
       "      <td>SOUTH CURRY PIKE LOT 71</td>\n",
       "      <td>39.150825</td>\n",
       "      <td>-86.584899</td>\n",
       "    </tr>\n",
       "    <tr>\n",
       "      <th>7</th>\n",
       "      <td>2015</td>\n",
       "      <td>1</td>\n",
       "      <td>6</td>\n",
       "      <td>Weekday</td>\n",
       "      <td>1400.0</td>\n",
       "      <td>1-Car</td>\n",
       "      <td>Incapacitating</td>\n",
       "      <td>ENGINE FAILURE OR DEFECTIVE</td>\n",
       "      <td>NORTH LOUDEN RD</td>\n",
       "      <td>39.199272</td>\n",
       "      <td>-86.637024</td>\n",
       "    </tr>\n",
       "    <tr>\n",
       "      <th>8</th>\n",
       "      <td>2015</td>\n",
       "      <td>1</td>\n",
       "      <td>7</td>\n",
       "      <td>Weekend</td>\n",
       "      <td>1400.0</td>\n",
       "      <td>2-Car</td>\n",
       "      <td>No injury/unknown</td>\n",
       "      <td>FOLLOWING TOO CLOSELY</td>\n",
       "      <td>LIBERTY &amp; W 3RD</td>\n",
       "      <td>39.164610</td>\n",
       "      <td>-86.579130</td>\n",
       "    </tr>\n",
       "    <tr>\n",
       "      <th>9</th>\n",
       "      <td>2015</td>\n",
       "      <td>1</td>\n",
       "      <td>7</td>\n",
       "      <td>Weekend</td>\n",
       "      <td>1600.0</td>\n",
       "      <td>1-Car</td>\n",
       "      <td>No injury/unknown</td>\n",
       "      <td>RAN OFF ROAD RIGHT</td>\n",
       "      <td>PATTERSON &amp; W 3RD</td>\n",
       "      <td>39.163440</td>\n",
       "      <td>-86.551280</td>\n",
       "    </tr>\n",
       "  </tbody>\n",
       "</table>\n",
       "</div>"
      ],
      "text/plain": [
       "   Year  Month  Day Weekend?    Hour Collision Type         Injury Type  \\\n",
       "0  2015      1    5  Weekday     0.0          2-Car   No injury/unknown   \n",
       "1  2015      1    6  Weekday  1500.0          2-Car   No injury/unknown   \n",
       "2  2015      1    6  Weekend  2300.0          2-Car  Non-incapacitating   \n",
       "3  2015      1    7  Weekend   900.0          2-Car  Non-incapacitating   \n",
       "4  2015      1    7  Weekend  1100.0          2-Car   No injury/unknown   \n",
       "5  2015      1    6  Weekday  1800.0          2-Car   No injury/unknown   \n",
       "6  2015      1    6  Weekday  1200.0          2-Car   No injury/unknown   \n",
       "7  2015      1    6  Weekday  1400.0          1-Car      Incapacitating   \n",
       "8  2015      1    7  Weekend  1400.0          2-Car   No injury/unknown   \n",
       "9  2015      1    7  Weekend  1600.0          1-Car   No injury/unknown   \n",
       "\n",
       "                             Primary Factor        Reported_Location  \\\n",
       "0     OTHER (DRIVER) - EXPLAIN IN NARRATIVE               1ST & FESS   \n",
       "1                     FOLLOWING TOO CLOSELY            2ND & COLLEGE   \n",
       "2                 DISREGARD SIGNAL/REG SIGN    BASSWOOD & BLOOMFIELD   \n",
       "3             FAILURE TO YIELD RIGHT OF WAY           GATES & JACOBS   \n",
       "4             FAILURE TO YIELD RIGHT OF WAY                    W 3RD   \n",
       "5             FAILURE TO YIELD RIGHT OF WAY           BURKS & WALNUT   \n",
       "6  DRIVER DISTRACTED - EXPLAIN IN NARRATIVE  SOUTH CURRY PIKE LOT 71   \n",
       "7               ENGINE FAILURE OR DEFECTIVE          NORTH LOUDEN RD   \n",
       "8                     FOLLOWING TOO CLOSELY          LIBERTY & W 3RD   \n",
       "9                        RAN OFF ROAD RIGHT        PATTERSON & W 3RD   \n",
       "\n",
       "    Latitude  Longitude  \n",
       "0  39.159207 -86.525874  \n",
       "1  39.161440 -86.534848  \n",
       "2  39.149780 -86.568890  \n",
       "3  39.165655 -86.575956  \n",
       "4  39.164848 -86.579625  \n",
       "5  39.126670 -86.531370  \n",
       "6  39.150825 -86.584899  \n",
       "7  39.199272 -86.637024  \n",
       "8  39.164610 -86.579130  \n",
       "9  39.163440 -86.551280  "
      ]
     },
     "execution_count": 35,
     "metadata": {},
     "output_type": "execute_result"
    }
   ],
   "source": [
    "car.head(10)"
   ]
  },
  {
   "cell_type": "code",
   "execution_count": null,
   "id": "5d05ebe1",
   "metadata": {},
   "outputs": [],
   "source": []
  }
 ],
 "metadata": {
  "kernelspec": {
   "display_name": "Python 3 (ipykernel)",
   "language": "python",
   "name": "python3"
  },
  "language_info": {
   "codemirror_mode": {
    "name": "ipython",
    "version": 3
   },
   "file_extension": ".py",
   "mimetype": "text/x-python",
   "name": "python",
   "nbconvert_exporter": "python",
   "pygments_lexer": "ipython3",
   "version": "3.11.5"
  }
 },
 "nbformat": 4,
 "nbformat_minor": 5
}
